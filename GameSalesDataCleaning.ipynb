{
  "nbformat": 4,
  "nbformat_minor": 0,
  "metadata": {
    "colab": {
      "provenance": [],
      "authorship_tag": "ABX9TyMRlmseOnngyY9oH5N+1j0K",
      "include_colab_link": true
    },
    "kernelspec": {
      "name": "python3",
      "display_name": "Python 3"
    },
    "language_info": {
      "name": "python"
    }
  },
  "cells": [
    {
      "cell_type": "markdown",
      "metadata": {
        "id": "view-in-github",
        "colab_type": "text"
      },
      "source": [
        "<a href=\"https://colab.research.google.com/github/LeMagnifiq/GameSphere-Insights/blob/main/GameSalesDataCleaning.ipynb\" target=\"_parent\"><img src=\"https://colab.research.google.com/assets/colab-badge.svg\" alt=\"Open In Colab\"/></a>"
      ]
    },
    {
      "cell_type": "code",
      "execution_count": null,
      "metadata": {
        "id": "NedtvsFV27wj"
      },
      "outputs": [],
      "source": [
        "! pip install -q kaggle"
      ]
    },
    {
      "cell_type": "code",
      "source": [
        "from google.colab import files\n",
        "files.upload()"
      ],
      "metadata": {
        "colab": {
          "base_uri": "https://localhost:8080/",
          "height": 92
        },
        "id": "BHbK2nME2_nM",
        "outputId": "bcabdf27-659e-449b-fed6-03f530b3fc45"
      },
      "execution_count": null,
      "outputs": [
        {
          "output_type": "display_data",
          "data": {
            "text/plain": [
              "<IPython.core.display.HTML object>"
            ],
            "text/html": [
              "\n",
              "     <input type=\"file\" id=\"files-56e9d8fa-079f-4c1c-902a-e8e0b830df2a\" name=\"files[]\" multiple disabled\n",
              "        style=\"border:none\" />\n",
              "     <output id=\"result-56e9d8fa-079f-4c1c-902a-e8e0b830df2a\">\n",
              "      Upload widget is only available when the cell has been executed in the\n",
              "      current browser session. Please rerun this cell to enable.\n",
              "      </output>\n",
              "      <script>// Copyright 2017 Google LLC\n",
              "//\n",
              "// Licensed under the Apache License, Version 2.0 (the \"License\");\n",
              "// you may not use this file except in compliance with the License.\n",
              "// You may obtain a copy of the License at\n",
              "//\n",
              "//      http://www.apache.org/licenses/LICENSE-2.0\n",
              "//\n",
              "// Unless required by applicable law or agreed to in writing, software\n",
              "// distributed under the License is distributed on an \"AS IS\" BASIS,\n",
              "// WITHOUT WARRANTIES OR CONDITIONS OF ANY KIND, either express or implied.\n",
              "// See the License for the specific language governing permissions and\n",
              "// limitations under the License.\n",
              "\n",
              "/**\n",
              " * @fileoverview Helpers for google.colab Python module.\n",
              " */\n",
              "(function(scope) {\n",
              "function span(text, styleAttributes = {}) {\n",
              "  const element = document.createElement('span');\n",
              "  element.textContent = text;\n",
              "  for (const key of Object.keys(styleAttributes)) {\n",
              "    element.style[key] = styleAttributes[key];\n",
              "  }\n",
              "  return element;\n",
              "}\n",
              "\n",
              "// Max number of bytes which will be uploaded at a time.\n",
              "const MAX_PAYLOAD_SIZE = 100 * 1024;\n",
              "\n",
              "function _uploadFiles(inputId, outputId) {\n",
              "  const steps = uploadFilesStep(inputId, outputId);\n",
              "  const outputElement = document.getElementById(outputId);\n",
              "  // Cache steps on the outputElement to make it available for the next call\n",
              "  // to uploadFilesContinue from Python.\n",
              "  outputElement.steps = steps;\n",
              "\n",
              "  return _uploadFilesContinue(outputId);\n",
              "}\n",
              "\n",
              "// This is roughly an async generator (not supported in the browser yet),\n",
              "// where there are multiple asynchronous steps and the Python side is going\n",
              "// to poll for completion of each step.\n",
              "// This uses a Promise to block the python side on completion of each step,\n",
              "// then passes the result of the previous step as the input to the next step.\n",
              "function _uploadFilesContinue(outputId) {\n",
              "  const outputElement = document.getElementById(outputId);\n",
              "  const steps = outputElement.steps;\n",
              "\n",
              "  const next = steps.next(outputElement.lastPromiseValue);\n",
              "  return Promise.resolve(next.value.promise).then((value) => {\n",
              "    // Cache the last promise value to make it available to the next\n",
              "    // step of the generator.\n",
              "    outputElement.lastPromiseValue = value;\n",
              "    return next.value.response;\n",
              "  });\n",
              "}\n",
              "\n",
              "/**\n",
              " * Generator function which is called between each async step of the upload\n",
              " * process.\n",
              " * @param {string} inputId Element ID of the input file picker element.\n",
              " * @param {string} outputId Element ID of the output display.\n",
              " * @return {!Iterable<!Object>} Iterable of next steps.\n",
              " */\n",
              "function* uploadFilesStep(inputId, outputId) {\n",
              "  const inputElement = document.getElementById(inputId);\n",
              "  inputElement.disabled = false;\n",
              "\n",
              "  const outputElement = document.getElementById(outputId);\n",
              "  outputElement.innerHTML = '';\n",
              "\n",
              "  const pickedPromise = new Promise((resolve) => {\n",
              "    inputElement.addEventListener('change', (e) => {\n",
              "      resolve(e.target.files);\n",
              "    });\n",
              "  });\n",
              "\n",
              "  const cancel = document.createElement('button');\n",
              "  inputElement.parentElement.appendChild(cancel);\n",
              "  cancel.textContent = 'Cancel upload';\n",
              "  const cancelPromise = new Promise((resolve) => {\n",
              "    cancel.onclick = () => {\n",
              "      resolve(null);\n",
              "    };\n",
              "  });\n",
              "\n",
              "  // Wait for the user to pick the files.\n",
              "  const files = yield {\n",
              "    promise: Promise.race([pickedPromise, cancelPromise]),\n",
              "    response: {\n",
              "      action: 'starting',\n",
              "    }\n",
              "  };\n",
              "\n",
              "  cancel.remove();\n",
              "\n",
              "  // Disable the input element since further picks are not allowed.\n",
              "  inputElement.disabled = true;\n",
              "\n",
              "  if (!files) {\n",
              "    return {\n",
              "      response: {\n",
              "        action: 'complete',\n",
              "      }\n",
              "    };\n",
              "  }\n",
              "\n",
              "  for (const file of files) {\n",
              "    const li = document.createElement('li');\n",
              "    li.append(span(file.name, {fontWeight: 'bold'}));\n",
              "    li.append(span(\n",
              "        `(${file.type || 'n/a'}) - ${file.size} bytes, ` +\n",
              "        `last modified: ${\n",
              "            file.lastModifiedDate ? file.lastModifiedDate.toLocaleDateString() :\n",
              "                                    'n/a'} - `));\n",
              "    const percent = span('0% done');\n",
              "    li.appendChild(percent);\n",
              "\n",
              "    outputElement.appendChild(li);\n",
              "\n",
              "    const fileDataPromise = new Promise((resolve) => {\n",
              "      const reader = new FileReader();\n",
              "      reader.onload = (e) => {\n",
              "        resolve(e.target.result);\n",
              "      };\n",
              "      reader.readAsArrayBuffer(file);\n",
              "    });\n",
              "    // Wait for the data to be ready.\n",
              "    let fileData = yield {\n",
              "      promise: fileDataPromise,\n",
              "      response: {\n",
              "        action: 'continue',\n",
              "      }\n",
              "    };\n",
              "\n",
              "    // Use a chunked sending to avoid message size limits. See b/62115660.\n",
              "    let position = 0;\n",
              "    do {\n",
              "      const length = Math.min(fileData.byteLength - position, MAX_PAYLOAD_SIZE);\n",
              "      const chunk = new Uint8Array(fileData, position, length);\n",
              "      position += length;\n",
              "\n",
              "      const base64 = btoa(String.fromCharCode.apply(null, chunk));\n",
              "      yield {\n",
              "        response: {\n",
              "          action: 'append',\n",
              "          file: file.name,\n",
              "          data: base64,\n",
              "        },\n",
              "      };\n",
              "\n",
              "      let percentDone = fileData.byteLength === 0 ?\n",
              "          100 :\n",
              "          Math.round((position / fileData.byteLength) * 100);\n",
              "      percent.textContent = `${percentDone}% done`;\n",
              "\n",
              "    } while (position < fileData.byteLength);\n",
              "  }\n",
              "\n",
              "  // All done.\n",
              "  yield {\n",
              "    response: {\n",
              "      action: 'complete',\n",
              "    }\n",
              "  };\n",
              "}\n",
              "\n",
              "scope.google = scope.google || {};\n",
              "scope.google.colab = scope.google.colab || {};\n",
              "scope.google.colab._files = {\n",
              "  _uploadFiles,\n",
              "  _uploadFilesContinue,\n",
              "};\n",
              "})(self);\n",
              "</script> "
            ]
          },
          "metadata": {}
        },
        {
          "output_type": "stream",
          "name": "stdout",
          "text": [
            "Saving kaggle.json to kaggle.json\n"
          ]
        },
        {
          "output_type": "execute_result",
          "data": {
            "text/plain": [
              "{'kaggle.json': b'{\"username\":\"lemagnifiq\",\"key\":\"8d03255afa4acff15e58b719f0ee8da4\"}'}"
            ]
          },
          "metadata": {},
          "execution_count": 2
        }
      ]
    },
    {
      "cell_type": "code",
      "source": [
        "!mkdir -p ~/.kaggle\n",
        "!cp kaggle.json ~/.kaggle/\n",
        "!chmod 600 ~/.kaggle/kaggle.json"
      ],
      "metadata": {
        "id": "OJiiPAZ63CBK"
      },
      "execution_count": null,
      "outputs": []
    },
    {
      "cell_type": "code",
      "source": [
        "!kaggle datasets download -d thedevastator/video-game-sales-and-ratings"
      ],
      "metadata": {
        "colab": {
          "base_uri": "https://localhost:8080/"
        },
        "id": "iTxNN9GL3LWx",
        "outputId": "e09c32ec-cba1-4526-d926-ee2ddbfd105e"
      },
      "execution_count": null,
      "outputs": [
        {
          "output_type": "stream",
          "name": "stdout",
          "text": [
            "Downloading video-game-sales-and-ratings.zip to /content\n",
            "\r  0% 0.00/540k [00:00<?, ?B/s]\n",
            "\r100% 540k/540k [00:00<00:00, 90.7MB/s]\n"
          ]
        }
      ]
    },
    {
      "cell_type": "code",
      "source": [
        "!unzip video-game-sales-and-ratings.zip"
      ],
      "metadata": {
        "colab": {
          "base_uri": "https://localhost:8080/"
        },
        "id": "IOoK8SRi3Pe0",
        "outputId": "008d14e2-7ace-4dc4-80f8-0741e927a26c"
      },
      "execution_count": null,
      "outputs": [
        {
          "output_type": "stream",
          "name": "stdout",
          "text": [
            "Archive:  video-game-sales-and-ratings.zip\n",
            "  inflating: Video_Games.csv         \n"
          ]
        }
      ]
    },
    {
      "cell_type": "code",
      "source": [
        "import pandas as pd\n",
        "\n",
        "# Replace 'your_dataset.csv' with the actual file path or URL of your dataset\n",
        "df = pd.read_csv('Video_Games.csv')\n",
        "\n",
        "# Display the first few rows of the DataFrame\n",
        "print(df.head())"
      ],
      "metadata": {
        "colab": {
          "base_uri": "https://localhost:8080/"
        },
        "id": "kK8bFXJQ3gXz",
        "outputId": "6a144589-d19a-42d1-a58a-cfe5503d3855"
      },
      "execution_count": null,
      "outputs": [
        {
          "output_type": "stream",
          "name": "stdout",
          "text": [
            "   index                      Name Platform  Year_of_Release         Genre  \\\n",
            "0      0                Wii Sports      Wii           2006.0        Sports   \n",
            "1      1         Super Mario Bros.      NES           1985.0      Platform   \n",
            "2      2            Mario Kart Wii      Wii           2008.0        Racing   \n",
            "3      3         Wii Sports Resort      Wii           2009.0        Sports   \n",
            "4      4  Pokemon Red/Pokemon Blue       GB           1996.0  Role-Playing   \n",
            "\n",
            "  Publisher  NA_Sales  EU_Sales  JP_Sales  Other_Sales  Global_Sales  \\\n",
            "0  Nintendo     41.36     28.96      3.77         8.45         82.53   \n",
            "1  Nintendo     29.08      3.58      6.81         0.77         40.24   \n",
            "2  Nintendo     15.68     12.76      3.79         3.29         35.52   \n",
            "3  Nintendo     15.61     10.93      3.28         2.95         32.77   \n",
            "4  Nintendo     11.27      8.89     10.22         1.00         31.37   \n",
            "\n",
            "   Critic_Score  Critic_Count User_Score  User_Count Developer Rating  \n",
            "0          76.0          51.0          8       322.0  Nintendo      E  \n",
            "1           NaN           NaN        NaN         NaN       NaN    NaN  \n",
            "2          82.0          73.0        8.3       709.0  Nintendo      E  \n",
            "3          80.0          73.0          8       192.0  Nintendo      E  \n",
            "4           NaN           NaN        NaN         NaN       NaN    NaN  \n"
          ]
        }
      ]
    },
    {
      "cell_type": "code",
      "source": [
        "# Check for missing values in each column\n",
        "print(df.isnull().sum())"
      ],
      "metadata": {
        "colab": {
          "base_uri": "https://localhost:8080/"
        },
        "id": "72AKu6YS3ywv",
        "outputId": "0ff40372-c0c6-47da-c9dc-ffe3e1fff3c9"
      },
      "execution_count": null,
      "outputs": [
        {
          "output_type": "stream",
          "name": "stdout",
          "text": [
            "index                 0\n",
            "Name                  2\n",
            "Platform              0\n",
            "Year_of_Release     273\n",
            "Genre                 2\n",
            "Publisher            55\n",
            "NA_Sales              0\n",
            "EU_Sales              0\n",
            "JP_Sales              0\n",
            "Other_Sales           0\n",
            "Global_Sales          0\n",
            "Critic_Score       8668\n",
            "Critic_Count       8668\n",
            "User_Score         6769\n",
            "User_Count         9210\n",
            "Developer          6688\n",
            "Rating             6836\n",
            "dtype: int64\n"
          ]
        }
      ]
    },
    {
      "cell_type": "code",
      "source": [
        "# Find the most recurring word in each string column\n",
        "most_recurring_name = df['Name'].mode()[0]\n",
        "most_recurring_genre = df['Genre'].mode()[0]\n",
        "most_recurring_publisher = df['Publisher'].mode()[0]\n",
        "most_recurring_developer = df['Developer'].mode()[0]\n",
        "most_recurring_rating = df['Rating'].mode()[0]"
      ],
      "metadata": {
        "id": "uuddrodo4uvL"
      },
      "execution_count": null,
      "outputs": []
    },
    {
      "cell_type": "code",
      "source": [
        "# Display the most recurring words in each string column\n",
        "print(\"Most Recurring Words:\")\n",
        "print(\"Name:\", df['Name'].mode()[0])\n",
        "print(\"Genre:\", df['Genre'].mode()[0])\n",
        "print(\"Publisher:\", df['Publisher'].mode()[0])\n",
        "print(\"Developer:\", df['Developer'].mode()[0])\n",
        "print(\"Rating:\", df['Rating'].mode()[0])"
      ],
      "metadata": {
        "colab": {
          "base_uri": "https://localhost:8080/"
        },
        "id": "p4cd5-fN455p",
        "outputId": "8f7d5fed-5fcb-45fc-b623-c925383046a0"
      },
      "execution_count": null,
      "outputs": [
        {
          "output_type": "stream",
          "name": "stdout",
          "text": [
            "Most Recurring Words:\n",
            "Name: Need for Speed: Most Wanted\n",
            "Genre: Action\n",
            "Publisher: Electronic Arts\n",
            "Developer: Ubisoft\n",
            "Rating: E\n"
          ]
        }
      ]
    },
    {
      "cell_type": "code",
      "source": [
        "# Fill missing values for categorical columns with the most recurring word\n",
        "df['Name'].fillna(most_recurring_name, inplace=True)\n",
        "df['Genre'].fillna(most_recurring_genre, inplace=True)\n",
        "df['Publisher'].fillna(most_recurring_publisher, inplace=True)\n",
        "df['Developer'].fillna(most_recurring_developer, inplace=True)\n",
        "df['Rating'].fillna(most_recurring_rating, inplace=True)\n",
        "\n",
        "# Display the first few rows to verify changes\n",
        "print(df.head())"
      ],
      "metadata": {
        "colab": {
          "base_uri": "https://localhost:8080/"
        },
        "id": "jwLfDxRw5Dim",
        "outputId": "2b337de8-891b-4868-b70e-3948b2e58b65"
      },
      "execution_count": null,
      "outputs": [
        {
          "output_type": "stream",
          "name": "stdout",
          "text": [
            "   index                      Name Platform  Year_of_Release         Genre  \\\n",
            "0      0                Wii Sports      Wii           2006.0        Sports   \n",
            "1      1         Super Mario Bros.      NES           1985.0      Platform   \n",
            "2      2            Mario Kart Wii      Wii           2008.0        Racing   \n",
            "3      3         Wii Sports Resort      Wii           2009.0        Sports   \n",
            "4      4  Pokemon Red/Pokemon Blue       GB           1996.0  Role-Playing   \n",
            "\n",
            "  Publisher  NA_Sales  EU_Sales  JP_Sales  Other_Sales  Global_Sales  \\\n",
            "0  Nintendo     41.36     28.96      3.77         8.45         82.53   \n",
            "1  Nintendo     29.08      3.58      6.81         0.77         40.24   \n",
            "2  Nintendo     15.68     12.76      3.79         3.29         35.52   \n",
            "3  Nintendo     15.61     10.93      3.28         2.95         32.77   \n",
            "4  Nintendo     11.27      8.89     10.22         1.00         31.37   \n",
            "\n",
            "   Critic_Score  Critic_Count User_Score  User_Count Developer Rating  \n",
            "0          76.0          51.0          8       322.0  Nintendo      E  \n",
            "1           NaN           NaN        NaN         NaN   Ubisoft      E  \n",
            "2          82.0          73.0        8.3       709.0  Nintendo      E  \n",
            "3          80.0          73.0          8       192.0  Nintendo      E  \n",
            "4           NaN           NaN        NaN         NaN   Ubisoft      E  \n"
          ]
        }
      ]
    },
    {
      "cell_type": "code",
      "source": [
        "# Fill missing numerical values with the mean\n",
        "df['Critic_Score'].fillna(df['Critic_Score'].mean(), inplace=True)\n",
        "df['Critic_Count'].fillna(df['Critic_Count'].mean(), inplace=True)\n",
        "df['User_Count'].fillna(df['User_Count'].mean(), inplace=True)\n",
        "\n",
        "# Display the first few rows to verify changes\n",
        "print(df.head())"
      ],
      "metadata": {
        "colab": {
          "base_uri": "https://localhost:8080/"
        },
        "id": "c7FZa5w35FiT",
        "outputId": "6a0b542d-8925-46ce-a4e8-7cb341106b47"
      },
      "execution_count": null,
      "outputs": [
        {
          "output_type": "stream",
          "name": "stdout",
          "text": [
            "   index                      Name Platform  Year_of_Release         Genre  \\\n",
            "0      0                Wii Sports      Wii           2006.0        Sports   \n",
            "1      1         Super Mario Bros.      NES           1985.0      Platform   \n",
            "2      2            Mario Kart Wii      Wii           2008.0        Racing   \n",
            "3      3         Wii Sports Resort      Wii           2009.0        Sports   \n",
            "4      4  Pokemon Red/Pokemon Blue       GB           1996.0  Role-Playing   \n",
            "\n",
            "  Publisher  NA_Sales  EU_Sales  JP_Sales  Other_Sales  Global_Sales  \\\n",
            "0  Nintendo     41.36     28.96      3.77         8.45         82.53   \n",
            "1  Nintendo     29.08      3.58      6.81         0.77         40.24   \n",
            "2  Nintendo     15.68     12.76      3.79         3.29         35.52   \n",
            "3  Nintendo     15.61     10.93      3.28         2.95         32.77   \n",
            "4  Nintendo     11.27      8.89     10.22         1.00         31.37   \n",
            "\n",
            "   Critic_Score  Critic_Count User_Score  User_Count Developer Rating  \n",
            "0     76.000000     51.000000          8  322.000000  Nintendo      E  \n",
            "1     69.037893     26.428692        NaN  163.269629   Ubisoft      E  \n",
            "2     82.000000     73.000000        8.3  709.000000  Nintendo      E  \n",
            "3     80.000000     73.000000          8  192.000000  Nintendo      E  \n",
            "4     69.037893     26.428692        NaN  163.269629   Ubisoft      E  \n"
          ]
        }
      ]
    },
    {
      "cell_type": "code",
      "source": [
        "# Check for non-numeric values in 'User_Score'\n",
        "non_numeric_user_score = df[~df['User_Score'].apply(lambda x: pd.to_numeric(x, errors='coerce')).notna()]\n",
        "\n",
        "# Display rows with non-numeric values in 'User_Score'\n",
        "print(non_numeric_user_score[['Name', 'User_Score']])"
      ],
      "metadata": {
        "colab": {
          "base_uri": "https://localhost:8080/"
        },
        "id": "fWlfWLkM5w_7",
        "outputId": "73b78c87-1868-4ac9-fb5b-d632191c9fde"
      },
      "execution_count": null,
      "outputs": [
        {
          "output_type": "stream",
          "name": "stdout",
          "text": [
            "                                    Name User_Score\n",
            "1                      Super Mario Bros.        NaN\n",
            "4               Pokemon Red/Pokemon Blue        NaN\n",
            "5                                 Tetris        NaN\n",
            "9                              Duck Hunt        NaN\n",
            "10                            Nintendogs        NaN\n",
            "...                                  ...        ...\n",
            "16912             Game & Watch Gallery 4        NaN\n",
            "16916       Cabela's Monster Buck Hunter        tbd\n",
            "16918                      Dark Souls II        NaN\n",
            "16919                     Monster Trucks        tbd\n",
            "16927  MonHun Nikki: Poka Poka Ailu Mura        NaN\n",
            "\n",
            "[9210 rows x 2 columns]\n"
          ]
        }
      ]
    },
    {
      "cell_type": "code",
      "source": [
        "# Replace 'tbd' with NaN in 'User_Score'\n",
        "df['User_Score'].replace('tbd', pd.NA, inplace=True)\n",
        "\n",
        "# Convert 'User_Score' to numeric\n",
        "df['User_Score'] = pd.to_numeric(df['User_Score'], errors='coerce')\n",
        "\n",
        "# Fill missing values in 'User_Score' with the mean\n",
        "user_score_mean = df['User_Score'].mean()\n",
        "df['User_Score'].fillna(user_score_mean, inplace=True)\n",
        "\n",
        "# Display the first few rows to verify changes\n",
        "print(df.head())\n"
      ],
      "metadata": {
        "colab": {
          "base_uri": "https://localhost:8080/"
        },
        "id": "U5N8tvv559S6",
        "outputId": "dbee7bd2-4b68-4f40-a5cb-92f4c311cc0f"
      },
      "execution_count": null,
      "outputs": [
        {
          "output_type": "stream",
          "name": "stdout",
          "text": [
            "   index                      Name Platform  Year_of_Release         Genre  \\\n",
            "0      0                Wii Sports      Wii           2006.0        Sports   \n",
            "1      1         Super Mario Bros.      NES           1985.0      Platform   \n",
            "2      2            Mario Kart Wii      Wii           2008.0        Racing   \n",
            "3      3         Wii Sports Resort      Wii           2009.0        Sports   \n",
            "4      4  Pokemon Red/Pokemon Blue       GB           1996.0  Role-Playing   \n",
            "\n",
            "  Publisher  NA_Sales  EU_Sales  JP_Sales  Other_Sales  Global_Sales  \\\n",
            "0  Nintendo     41.36     28.96      3.77         8.45         82.53   \n",
            "1  Nintendo     29.08      3.58      6.81         0.77         40.24   \n",
            "2  Nintendo     15.68     12.76      3.79         3.29         35.52   \n",
            "3  Nintendo     15.61     10.93      3.28         2.95         32.77   \n",
            "4  Nintendo     11.27      8.89     10.22         1.00         31.37   \n",
            "\n",
            "   Critic_Score  Critic_Count  User_Score  User_Count Developer Rating  \n",
            "0     76.000000     51.000000    8.000000  322.000000  Nintendo      E  \n",
            "1     69.037893     26.428692    7.125926  163.269629   Ubisoft      E  \n",
            "2     82.000000     73.000000    8.300000  709.000000  Nintendo      E  \n",
            "3     80.000000     73.000000    8.000000  192.000000  Nintendo      E  \n",
            "4     69.037893     26.428692    7.125926  163.269629   Ubisoft      E  \n"
          ]
        }
      ]
    },
    {
      "cell_type": "code",
      "source": [
        "print(non_numeric_user_score[['Name', 'User_Score']])"
      ],
      "metadata": {
        "colab": {
          "base_uri": "https://localhost:8080/"
        },
        "id": "pLNaT0u56Dwc",
        "outputId": "b8748428-6dd7-4665-94fb-eae24fe501c8"
      },
      "execution_count": null,
      "outputs": [
        {
          "output_type": "stream",
          "name": "stdout",
          "text": [
            "                                    Name User_Score\n",
            "1                      Super Mario Bros.        NaN\n",
            "4               Pokemon Red/Pokemon Blue        NaN\n",
            "5                                 Tetris        NaN\n",
            "9                              Duck Hunt        NaN\n",
            "10                            Nintendogs        NaN\n",
            "...                                  ...        ...\n",
            "16912             Game & Watch Gallery 4        NaN\n",
            "16916       Cabela's Monster Buck Hunter        tbd\n",
            "16918                      Dark Souls II        NaN\n",
            "16919                     Monster Trucks        tbd\n",
            "16927  MonHun Nikki: Poka Poka Ailu Mura        NaN\n",
            "\n",
            "[9210 rows x 2 columns]\n"
          ]
        }
      ]
    },
    {
      "cell_type": "code",
      "source": [
        "# Replace variations of 'tbd' with NaN in 'User_Score'\n",
        "df['User_Score'] = df['User_Score'].replace(['tbd', 'TBD'], pd.NA, regex=True)\n",
        "\n",
        "# Convert 'User_Score' to numeric\n",
        "df['User_Score'] = pd.to_numeric(df['User_Score'], errors='coerce')\n",
        "\n",
        "# Fill missing values in 'User_Score' with the mean\n",
        "user_score_mean = df['User_Score'].mean()\n",
        "df['User_Score'].fillna(user_score_mean, inplace=True)\n",
        "\n",
        "# Display the first few rows to verify changes\n",
        "print(df.head())"
      ],
      "metadata": {
        "colab": {
          "base_uri": "https://localhost:8080/"
        },
        "id": "OgZ2Ng0y6wBN",
        "outputId": "f5e0b17a-0b4a-4dd1-cd35-f3aa17ee33d9"
      },
      "execution_count": null,
      "outputs": [
        {
          "output_type": "stream",
          "name": "stdout",
          "text": [
            "   index                      Name Platform  Year_of_Release         Genre  \\\n",
            "0      0                Wii Sports      Wii           2006.0        Sports   \n",
            "1      1         Super Mario Bros.      NES           1985.0      Platform   \n",
            "2      2            Mario Kart Wii      Wii           2008.0        Racing   \n",
            "3      3         Wii Sports Resort      Wii           2009.0        Sports   \n",
            "4      4  Pokemon Red/Pokemon Blue       GB           1996.0  Role-Playing   \n",
            "\n",
            "  Publisher  NA_Sales  EU_Sales  JP_Sales  Other_Sales  Global_Sales  \\\n",
            "0  Nintendo     41.36     28.96      3.77         8.45         82.53   \n",
            "1  Nintendo     29.08      3.58      6.81         0.77         40.24   \n",
            "2  Nintendo     15.68     12.76      3.79         3.29         35.52   \n",
            "3  Nintendo     15.61     10.93      3.28         2.95         32.77   \n",
            "4  Nintendo     11.27      8.89     10.22         1.00         31.37   \n",
            "\n",
            "   Critic_Score  Critic_Count  User_Score  User_Count Developer Rating  \n",
            "0     76.000000     51.000000    8.000000  322.000000  Nintendo      E  \n",
            "1     69.037893     26.428692    7.125926  163.269629   Ubisoft      E  \n",
            "2     82.000000     73.000000    8.300000  709.000000  Nintendo      E  \n",
            "3     80.000000     73.000000    8.000000  192.000000  Nintendo      E  \n",
            "4     69.037893     26.428692    7.125926  163.269629   Ubisoft      E  \n"
          ]
        }
      ]
    },
    {
      "cell_type": "code",
      "source": [
        "# For 'Year_of_Release', let's fill missing values with the median year\n",
        "median_year = df['Year_of_Release'].median()\n",
        "df['Year_of_Release'].fillna(median_year, inplace=True)\n",
        "\n",
        "# Display the first few rows to verify changes\n",
        "print(df.head())"
      ],
      "metadata": {
        "colab": {
          "base_uri": "https://localhost:8080/"
        },
        "id": "E6aJElHa6-XK",
        "outputId": "a84be1a6-9698-4474-85a2-656dde934d6c"
      },
      "execution_count": null,
      "outputs": [
        {
          "output_type": "stream",
          "name": "stdout",
          "text": [
            "   index                      Name Platform  Year_of_Release         Genre  \\\n",
            "0      0                Wii Sports      Wii           2006.0        Sports   \n",
            "1      1         Super Mario Bros.      NES           1985.0      Platform   \n",
            "2      2            Mario Kart Wii      Wii           2008.0        Racing   \n",
            "3      3         Wii Sports Resort      Wii           2009.0        Sports   \n",
            "4      4  Pokemon Red/Pokemon Blue       GB           1996.0  Role-Playing   \n",
            "\n",
            "  Publisher  NA_Sales  EU_Sales  JP_Sales  Other_Sales  Global_Sales  \\\n",
            "0  Nintendo     41.36     28.96      3.77         8.45         82.53   \n",
            "1  Nintendo     29.08      3.58      6.81         0.77         40.24   \n",
            "2  Nintendo     15.68     12.76      3.79         3.29         35.52   \n",
            "3  Nintendo     15.61     10.93      3.28         2.95         32.77   \n",
            "4  Nintendo     11.27      8.89     10.22         1.00         31.37   \n",
            "\n",
            "   Critic_Score  Critic_Count  User_Score  User_Count Developer Rating  \n",
            "0     76.000000     51.000000    8.000000  322.000000  Nintendo      E  \n",
            "1     69.037893     26.428692    7.125926  163.269629   Ubisoft      E  \n",
            "2     82.000000     73.000000    8.300000  709.000000  Nintendo      E  \n",
            "3     80.000000     73.000000    8.000000  192.000000  Nintendo      E  \n",
            "4     69.037893     26.428692    7.125926  163.269629   Ubisoft      E  \n"
          ]
        }
      ]
    },
    {
      "cell_type": "code",
      "source": [
        "# Check for duplicate rows\n",
        "print(df.duplicated().sum())\n",
        "\n",
        "# Remove duplicates if necessary\n",
        "df.drop_duplicates(inplace=True)\n",
        "\n",
        "# Display the first few rows to verify changes\n",
        "print(df.head())"
      ],
      "metadata": {
        "colab": {
          "base_uri": "https://localhost:8080/"
        },
        "id": "IlxLCGVs69Nb",
        "outputId": "ebfb5714-4459-47b2-afd6-f13edc21fba8"
      },
      "execution_count": null,
      "outputs": [
        {
          "output_type": "stream",
          "name": "stdout",
          "text": [
            "0\n",
            "   index                      Name Platform  Year_of_Release         Genre  \\\n",
            "0      0                Wii Sports      Wii           2006.0        Sports   \n",
            "1      1         Super Mario Bros.      NES           1985.0      Platform   \n",
            "2      2            Mario Kart Wii      Wii           2008.0        Racing   \n",
            "3      3         Wii Sports Resort      Wii           2009.0        Sports   \n",
            "4      4  Pokemon Red/Pokemon Blue       GB           1996.0  Role-Playing   \n",
            "\n",
            "  Publisher  NA_Sales  EU_Sales  JP_Sales  Other_Sales  Global_Sales  \\\n",
            "0  Nintendo     41.36     28.96      3.77         8.45         82.53   \n",
            "1  Nintendo     29.08      3.58      6.81         0.77         40.24   \n",
            "2  Nintendo     15.68     12.76      3.79         3.29         35.52   \n",
            "3  Nintendo     15.61     10.93      3.28         2.95         32.77   \n",
            "4  Nintendo     11.27      8.89     10.22         1.00         31.37   \n",
            "\n",
            "   Critic_Score  Critic_Count  User_Score  User_Count Developer Rating  \n",
            "0     76.000000     51.000000    8.000000  322.000000  Nintendo      E  \n",
            "1     69.037893     26.428692    7.125926  163.269629   Ubisoft      E  \n",
            "2     82.000000     73.000000    8.300000  709.000000  Nintendo      E  \n",
            "3     80.000000     73.000000    8.000000  192.000000  Nintendo      E  \n",
            "4     69.037893     26.428692    7.125926  163.269629   Ubisoft      E  \n"
          ]
        }
      ]
    },
    {
      "cell_type": "code",
      "source": [
        "# Check the data types of each column\n",
        "print(df.dtypes)"
      ],
      "metadata": {
        "colab": {
          "base_uri": "https://localhost:8080/"
        },
        "id": "LN6Dp0sM7atI",
        "outputId": "b494f61f-8e8e-4ce2-973c-13cc85e933dd"
      },
      "execution_count": null,
      "outputs": [
        {
          "output_type": "stream",
          "name": "stdout",
          "text": [
            "index                int64\n",
            "Name                object\n",
            "Platform            object\n",
            "Year_of_Release    float64\n",
            "Genre               object\n",
            "Publisher           object\n",
            "NA_Sales           float64\n",
            "EU_Sales           float64\n",
            "JP_Sales           float64\n",
            "Other_Sales        float64\n",
            "Global_Sales       float64\n",
            "Critic_Score       float64\n",
            "Critic_Count       float64\n",
            "User_Score         float64\n",
            "User_Count         float64\n",
            "Developer           object\n",
            "Rating              object\n",
            "dtype: object\n"
          ]
        }
      ]
    },
    {
      "cell_type": "code",
      "source": [
        "print(df.head())"
      ],
      "metadata": {
        "colab": {
          "base_uri": "https://localhost:8080/"
        },
        "id": "vgj5PGid-51h",
        "outputId": "d4fa4225-e49a-4895-a640-e8b0979fd8ce"
      },
      "execution_count": null,
      "outputs": [
        {
          "output_type": "stream",
          "name": "stdout",
          "text": [
            "   index                      Name Platform  Year_of_Release         Genre  \\\n",
            "0      0                Wii Sports      Wii           2006.0        Sports   \n",
            "1      1         Super Mario Bros.      NES           1985.0      Platform   \n",
            "2      2            Mario Kart Wii      Wii           2008.0        Racing   \n",
            "3      3         Wii Sports Resort      Wii           2009.0        Sports   \n",
            "4      4  Pokemon Red/Pokemon Blue       GB           1996.0  Role-Playing   \n",
            "\n",
            "  Publisher  NA_Sales  EU_Sales  JP_Sales  Other_Sales  Global_Sales  \\\n",
            "0  Nintendo     41.36     28.96      3.77         8.45         82.53   \n",
            "1  Nintendo     29.08      3.58      6.81         0.77         40.24   \n",
            "2  Nintendo     15.68     12.76      3.79         3.29         35.52   \n",
            "3  Nintendo     15.61     10.93      3.28         2.95         32.77   \n",
            "4  Nintendo     11.27      8.89     10.22         1.00         31.37   \n",
            "\n",
            "   Critic_Score  Critic_Count  User_Score  User_Count Developer Rating  \n",
            "0     76.000000     51.000000    8.000000  322.000000  Nintendo      E  \n",
            "1     69.037893     26.428692    7.125926  163.269629   Ubisoft      E  \n",
            "2     82.000000     73.000000    8.300000  709.000000  Nintendo      E  \n",
            "3     80.000000     73.000000    8.000000  192.000000  Nintendo      E  \n",
            "4     69.037893     26.428692    7.125926  163.269629   Ubisoft      E  \n"
          ]
        }
      ]
    },
    {
      "cell_type": "code",
      "source": [
        "# Save the DataFrame with the original date format to a CSV file\n",
        "df.to_csv('video_games_sales.csv', index=False)\n",
        "\n",
        "print(\"Dataset saved to 'video_games_sales.csv' with 'Year_of_Release' in short date format.\")\n"
      ],
      "metadata": {
        "colab": {
          "base_uri": "https://localhost:8080/"
        },
        "id": "kQVh3EFEAe1A",
        "outputId": "f200c25e-b315-46dc-eca8-20785bc49ac5"
      },
      "execution_count": null,
      "outputs": [
        {
          "output_type": "stream",
          "name": "stdout",
          "text": [
            "Dataset saved to 'video_games_sales.csv' with 'Year_of_Release' in short date format.\n"
          ]
        }
      ]
    },
    {
      "cell_type": "code",
      "source": [
        "# Check for missing values in each column\n",
        "print(df.isnull().sum())"
      ],
      "metadata": {
        "colab": {
          "base_uri": "https://localhost:8080/"
        },
        "id": "4sv7-VtyBAYr",
        "outputId": "6f3aae81-51f5-4667-957e-383a77428407"
      },
      "execution_count": null,
      "outputs": [
        {
          "output_type": "stream",
          "name": "stdout",
          "text": [
            "index              0\n",
            "Name               0\n",
            "Platform           0\n",
            "Year_of_Release    0\n",
            "Genre              0\n",
            "Publisher          0\n",
            "NA_Sales           0\n",
            "EU_Sales           0\n",
            "JP_Sales           0\n",
            "Other_Sales        0\n",
            "Global_Sales       0\n",
            "Critic_Score       0\n",
            "Critic_Count       0\n",
            "User_Score         0\n",
            "User_Count         0\n",
            "Developer          0\n",
            "Rating             0\n",
            "dtype: int64\n"
          ]
        }
      ]
    }
  ]
}